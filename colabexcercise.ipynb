{
  "nbformat": 4,
  "nbformat_minor": 0,
  "metadata": {
    "colab": {
      "name": "colabexcercise.ipynb",
      "provenance": [],
      "authorship_tag": "ABX9TyO+dTbAuoDqfGrwNto8JrYi",
      "include_colab_link": true
    },
    "kernelspec": {
      "name": "python3",
      "display_name": "Python 3"
    },
    "language_info": {
      "name": "python"
    }
  },
  "cells": [
    {
      "cell_type": "markdown",
      "metadata": {
        "id": "view-in-github",
        "colab_type": "text"
      },
      "source": [
        "<a href=\"https://colab.research.google.com/github/tanwolf/Python-and-Pandas-Excercises/blob/main/colabexcercise.ipynb\" target=\"_parent\"><img src=\"https://colab.research.google.com/assets/colab-badge.svg\" alt=\"Open In Colab\"/></a>"
      ]
    },
    {
      "cell_type": "code",
      "execution_count": null,
      "metadata": {
        "colab": {
          "base_uri": "https://localhost:8080/"
        },
        "id": "yr5wsZ9MZwz3",
        "outputId": "1c767f63-d6ea-4a42-f642-c6e5b70df386"
      },
      "outputs": [
        {
          "output_type": "stream",
          "name": "stdout",
          "text": [
            "Hello World\n"
          ]
        }
      ],
      "source": [
        "print(\"Hello World\")\n"
      ]
    },
    {
      "cell_type": "code",
      "source": [
        "print(\"bla\")"
      ],
      "metadata": {
        "colab": {
          "base_uri": "https://localhost:8080/"
        },
        "id": "cSWkF2s1Z2CC",
        "outputId": "b47d708e-e838-4f49-ddd3-f0015d28e2b4"
      },
      "execution_count": null,
      "outputs": [
        {
          "output_type": "stream",
          "name": "stdout",
          "text": [
            "bla\n"
          ]
        }
      ]
    },
    {
      "cell_type": "code",
      "source": [
        ""
      ],
      "metadata": {
        "id": "ysPbbn22Z_7s"
      },
      "execution_count": null,
      "outputs": []
    },
    {
      "cell_type": "markdown",
      "source": [
        "# Heading 1\n",
        "\n",
        "## Heading 2\n",
        "\n",
        "\n",
        "###### Heading 6\n",
        "\n",
        "\n",
        "**bold Text**\n",
        "\n",
        "*italic text*\n",
        "\n",
        "\n",
        "``\n",
        "This was my first line of code 'print(hello world)'\n",
        "\n",
        "```\n",
        "print('hello world')\n",
        "\n",
        "```\n",
        "\n",
        "lköklök\n",
        "\n",
        "this is my [github](https://app.clickup.com/18317483/v/dc/hf05b-14961/hf05b-7221)\n",
        "\n"
      ],
      "metadata": {
        "id": "zf36A_WeaCkk"
      }
    },
    {
      "cell_type": "code",
      "source": [
        "\n",
        "\n",
        "This is my github"
      ],
      "metadata": {
        "id": "qjWmdOYQbtY-"
      },
      "execution_count": null,
      "outputs": []
    }
  ]
}