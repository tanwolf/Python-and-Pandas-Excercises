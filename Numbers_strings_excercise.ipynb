{
  "cells": [
    {
      "cell_type": "markdown",
      "metadata": {
        "id": "view-in-github",
        "colab_type": "text"
      },
      "source": [
        "<a href=\"https://colab.research.google.com/github/tanwolf/Python-and-Pandas-Excercises/blob/main/Numbers_strings_excercise.ipynb\" target=\"_parent\"><img src=\"https://colab.research.google.com/assets/colab-badge.svg\" alt=\"Open In Colab\"/></a>"
      ]
    },
    {
      "cell_type": "markdown",
      "metadata": {
        "id": "GG8cSDex9jqw"
      },
      "source": [
        "# Numbers and Strings\n",
        "\n",
        "In Python, like in any other programming language and in general in life, we _do things_ with _stuff_. Most of this course will focus on the things we do and how to do them. But today we will talk about the stuff.\n",
        "\n",
        "Almost everything in Python is an object. We will deal with numbers, text, lists, dictionaries... all of those things are different types of Python objects.\n",
        "\n",
        "The type of an object defines what can you do with it, and how will it behave. You can sum two numbers and they will behave just as mathematics define that sums work:"
      ]
    },
    {
      "cell_type": "code",
      "execution_count": null,
      "metadata": {
        "id": "3sGGztmy9jqz",
        "outputId": "1f10aff1-a4b8-43ec-cf61-9df90f40d663",
        "colab": {
          "base_uri": "https://localhost:8080/"
        }
      },
      "outputs": [
        {
          "output_type": "execute_result",
          "data": {
            "text/plain": [
              "4"
            ]
          },
          "metadata": {},
          "execution_count": 1
        }
      ],
      "source": [
        "2 + 2"
      ]
    },
    {
      "cell_type": "markdown",
      "metadata": {
        "id": "P--VHI4w9jq2"
      },
      "source": [
        "But if you try to sum two strings, he behaviour will be different:"
      ]
    },
    {
      "cell_type": "code",
      "execution_count": null,
      "metadata": {
        "id": "Vbnc7Kfh9jq3",
        "outputId": "c0c4a698-da2c-41de-98fb-897bf0237cb1",
        "colab": {
          "base_uri": "https://localhost:8080/",
          "height": 35
        }
      },
      "outputs": [
        {
          "output_type": "execute_result",
          "data": {
            "text/plain": [
              "'22'"
            ],
            "application/vnd.google.colaboratory.intrinsic+json": {
              "type": "string"
            }
          },
          "metadata": {},
          "execution_count": 2
        }
      ],
      "source": [
        "\"2\" + \"2\""
      ]
    },
    {
      "cell_type": "markdown",
      "metadata": {
        "id": "1vXMNDRA9jq3"
      },
      "source": [
        "Any object in Python can be assigned to a variable with the `=` operator. Variables are just names for objects —you can visualize them as tags that allow us to identify or call our objects."
      ]
    },
    {
      "cell_type": "code",
      "execution_count": null,
      "metadata": {
        "id": "_580VfMW9jq4"
      },
      "outputs": [],
      "source": [
        "result = 4 + 3"
      ]
    },
    {
      "cell_type": "markdown",
      "metadata": {
        "id": "gMrCtWGE9jq4"
      },
      "source": [
        "At any point, we can retrieve whatever we stored in a variable that was previously defined:"
      ]
    },
    {
      "cell_type": "code",
      "execution_count": null,
      "metadata": {
        "id": "AaWJYeHW9jq5",
        "outputId": "61747720-2197-4056-f672-367a40381e0c",
        "colab": {
          "base_uri": "https://localhost:8080/"
        }
      },
      "outputs": [
        {
          "output_type": "stream",
          "name": "stdout",
          "text": [
            "7\n"
          ]
        }
      ],
      "source": [
        "print(result)"
      ]
    },
    {
      "cell_type": "markdown",
      "metadata": {
        "id": "-xH_7viN9jq5"
      },
      "source": [
        "If we want to find out what type of object does a variable, hold, we can ask it with the function `type()`, like this:"
      ]
    },
    {
      "cell_type": "code",
      "execution_count": null,
      "metadata": {
        "id": "gU3ZbrAk9jq6",
        "outputId": "9a1a2903-11e2-49b6-954a-4d16ba7c02f1",
        "colab": {
          "base_uri": "https://localhost:8080/"
        }
      },
      "outputs": [
        {
          "output_type": "execute_result",
          "data": {
            "text/plain": [
              "int"
            ]
          },
          "metadata": {},
          "execution_count": 5
        }
      ],
      "source": [
        "type(result)"
      ]
    },
    {
      "cell_type": "markdown",
      "metadata": {
        "id": "e3r8xQc-9jq6"
      },
      "source": [
        "**Exercise:** Sum `100` plus `3.4` and assign it to the variable `addition`. Print the type of that variable."
      ]
    },
    {
      "cell_type": "code",
      "execution_count": 5,
      "metadata": {
        "id": "MC6QjWi29jq6",
        "colab": {
          "base_uri": "https://localhost:8080/"
        },
        "outputId": "fb27a737-b41e-4f94-eb1d-e48470a68242"
      },
      "outputs": [
        {
          "output_type": "stream",
          "name": "stdout",
          "text": [
            "103.4\n"
          ]
        }
      ],
      "source": [
        "addition = 100 + 3.4\n",
        "\n",
        "print(addition)"
      ]
    },
    {
      "cell_type": "markdown",
      "metadata": {
        "id": "uBveabbD9jq7"
      },
      "source": [
        "## Booleans\n",
        "\n",
        "The values `True` and `False` are special in Python. They are called \"booleans\"."
      ]
    },
    {
      "cell_type": "code",
      "execution_count": null,
      "metadata": {
        "id": "cAlYm9kJ9jq7",
        "outputId": "20c155ec-d24a-4113-e2a9-17a7f6d33a2a",
        "colab": {
          "base_uri": "https://localhost:8080/"
        }
      },
      "outputs": [
        {
          "output_type": "execute_result",
          "data": {
            "text/plain": [
              "bool"
            ]
          },
          "metadata": {},
          "execution_count": 7
        }
      ],
      "source": [
        "type(True)"
      ]
    },
    {
      "cell_type": "code",
      "execution_count": null,
      "metadata": {
        "id": "AXToyxAt9jq7",
        "outputId": "e1569caa-61f0-4f56-8837-fc37c6a24176",
        "colab": {
          "base_uri": "https://localhost:8080/"
        }
      },
      "outputs": [
        {
          "output_type": "execute_result",
          "data": {
            "text/plain": [
              "bool"
            ]
          },
          "metadata": {},
          "execution_count": 8
        }
      ],
      "source": [
        "type(False)"
      ]
    },
    {
      "cell_type": "markdown",
      "metadata": {
        "id": "J1Ltqfls9jq7"
      },
      "source": [
        "If you try to use mathematical operations with booleans, will see how `True` equates to `1` and `False` equates to `0`\n"
      ]
    },
    {
      "cell_type": "code",
      "execution_count": null,
      "metadata": {
        "id": "mwsFtaDZ9jq8",
        "outputId": "502b95de-060a-4da1-fbb4-d7c0769b1ad8",
        "colab": {
          "base_uri": "https://localhost:8080/"
        }
      },
      "outputs": [
        {
          "output_type": "execute_result",
          "data": {
            "text/plain": [
              "2"
            ]
          },
          "metadata": {},
          "execution_count": 9
        }
      ],
      "source": [
        "True + True"
      ]
    },
    {
      "cell_type": "code",
      "execution_count": null,
      "metadata": {
        "id": "HhT2fJJJ9jq8",
        "outputId": "21977560-131d-4741-fbb9-4b06d99badc1",
        "colab": {
          "base_uri": "https://localhost:8080/"
        }
      },
      "outputs": [
        {
          "output_type": "execute_result",
          "data": {
            "text/plain": [
              "0"
            ]
          },
          "metadata": {},
          "execution_count": 10
        }
      ],
      "source": [
        "False + False"
      ]
    },
    {
      "cell_type": "markdown",
      "metadata": {
        "id": "mIrc9DDk9jq8"
      },
      "source": [
        "## Integers\n",
        "\n",
        "Integers are whole numbers (without fractions or decimal points) that can be negative or positive."
      ]
    },
    {
      "cell_type": "code",
      "execution_count": 7,
      "metadata": {
        "id": "mLef5s7O9jq8",
        "outputId": "0c4c47cd-f31f-48bf-d2f8-bc24a54a06ad",
        "colab": {
          "base_uri": "https://localhost:8080/"
        }
      },
      "outputs": [
        {
          "output_type": "execute_result",
          "data": {
            "text/plain": [
              "int"
            ]
          },
          "metadata": {},
          "execution_count": 7
        }
      ],
      "source": [
        "type(-8)"
      ]
    },
    {
      "cell_type": "markdown",
      "metadata": {
        "id": "TGTFBWwS9jq9"
      },
      "source": [
        "You can use math operators with integers:\n",
        "\n",
        "- `+` Addition\n",
        "- `-` Substraction\n",
        "- `*` Multiplication\n",
        "- `/` Folating-point division\n",
        "- `//` Truncating division\n",
        "- `%` Modulus\n",
        "- `**` Exponentiation"
      ]
    },
    {
      "cell_type": "markdown",
      "metadata": {
        "id": "RdTqurnS9jq9"
      },
      "source": [
        "**Exercise**: assign the number corresponding to the present year to the variable `year` and your age to the variable `age`. Operate with both variables to create a new variable called `birth_year`."
      ]
    },
    {
      "cell_type": "code",
      "execution_count": 12,
      "metadata": {
        "id": "LWxyFfCj9jq9",
        "colab": {
          "base_uri": "https://localhost:8080/"
        },
        "outputId": "af229ae4-c9d5-456d-a270-29eb7a4abee5"
      },
      "outputs": [
        {
          "output_type": "stream",
          "name": "stdout",
          "text": [
            "1980\n"
          ]
        }
      ],
      "source": [
        "year = 2022\n",
        "age = 42\n",
        "birth_year = (year) - (age)\n",
        "print(birth_year)\n"
      ]
    },
    {
      "cell_type": "markdown",
      "metadata": {
        "id": "9HB_1T5j9jq9"
      },
      "source": [
        "You can update the value of a variable like this:"
      ]
    },
    {
      "cell_type": "code",
      "execution_count": null,
      "metadata": {
        "id": "hexmreCK9jq9",
        "outputId": "78e16b32-c31f-462c-ada0-f0d7882735ea",
        "colab": {
          "base_uri": "https://localhost:8080/"
        }
      },
      "outputs": [
        {
          "output_type": "stream",
          "name": "stdout",
          "text": [
            "31\n"
          ]
        }
      ],
      "source": [
        "age = 30\n",
        "age = age + 1\n",
        "print(age)"
      ]
    },
    {
      "cell_type": "markdown",
      "metadata": {
        "id": "fOg2IqIi9jq-"
      },
      "source": [
        "Or you can combine both arithmetic operators:"
      ]
    },
    {
      "cell_type": "code",
      "execution_count": null,
      "metadata": {
        "id": "sYAzFGxI9jq-",
        "outputId": "5380c22b-7e49-430b-c725-cef7b9adc072",
        "colab": {
          "base_uri": "https://localhost:8080/"
        }
      },
      "outputs": [
        {
          "output_type": "stream",
          "name": "stdout",
          "text": [
            "31\n"
          ]
        }
      ],
      "source": [
        "age = 30\n",
        "age += 1\n",
        "print(age)"
      ]
    },
    {
      "cell_type": "markdown",
      "metadata": {
        "id": "1jGUon5V9jq-"
      },
      "source": [
        "**Exercise**: The same holds for other operators. Create a variable called `price` with the value `100`. Then update its value in a single line by multiplying it by `2`."
      ]
    },
    {
      "cell_type": "code",
      "execution_count": 13,
      "metadata": {
        "id": "y18avwiY9jq-",
        "colab": {
          "base_uri": "https://localhost:8080/"
        },
        "outputId": "6fde952c-342e-42d8-a815-963f7ea8a706"
      },
      "outputs": [
        {
          "output_type": "stream",
          "name": "stdout",
          "text": [
            "200\n"
          ]
        }
      ],
      "source": [
        "price = 100\n",
        "price *= 2\n",
        "print(price)"
      ]
    },
    {
      "cell_type": "markdown",
      "metadata": {
        "id": "2GvpaJ819jq_"
      },
      "source": [
        "You can convert stuff that's not an integer to an integer with the function `int`:"
      ]
    },
    {
      "cell_type": "code",
      "execution_count": null,
      "metadata": {
        "id": "cwre3wND9jq_",
        "outputId": "4fa3fa02-1bcd-4f9e-ca3c-8e309cfc97ce",
        "colab": {
          "base_uri": "https://localhost:8080/"
        }
      },
      "outputs": [
        {
          "output_type": "execute_result",
          "data": {
            "text/plain": [
              "3"
            ]
          },
          "metadata": {},
          "execution_count": 16
        }
      ],
      "source": [
        "int(3.14)"
      ]
    },
    {
      "cell_type": "code",
      "execution_count": null,
      "metadata": {
        "id": "oZTt6ynH9jrA",
        "outputId": "773823ff-dffb-44e0-ccef-a77bbc3d0b65",
        "colab": {
          "base_uri": "https://localhost:8080/"
        }
      },
      "outputs": [
        {
          "output_type": "execute_result",
          "data": {
            "text/plain": [
              "4"
            ]
          },
          "metadata": {},
          "execution_count": 17
        }
      ],
      "source": [
        "int(\"4\")"
      ]
    },
    {
      "cell_type": "markdown",
      "metadata": {
        "id": "npt0J-8m9jrA"
      },
      "source": [
        "If you try to convert to an integer something that cannot be interpreted as such, you will get an *exception*:"
      ]
    },
    {
      "cell_type": "code",
      "execution_count": null,
      "metadata": {
        "id": "uQ4cUvAu9jrA",
        "outputId": "e6959150-5ad2-4b3a-926d-69a67f9312bd",
        "colab": {
          "base_uri": "https://localhost:8080/",
          "height": 171
        }
      },
      "outputs": [
        {
          "output_type": "error",
          "ename": "ValueError",
          "evalue": "ignored",
          "traceback": [
            "\u001b[0;31m---------------------------------------------------------------------------\u001b[0m",
            "\u001b[0;31mValueError\u001b[0m                                Traceback (most recent call last)",
            "\u001b[0;32m<ipython-input-19-159e72cb0883>\u001b[0m in \u001b[0;36m<module>\u001b[0;34m()\u001b[0m\n\u001b[0;32m----> 1\u001b[0;31m \u001b[0mint\u001b[0m\u001b[0;34m(\u001b[0m\u001b[0;34m\"Hey hey hey\"\u001b[0m\u001b[0;34m)\u001b[0m\u001b[0;34m\u001b[0m\u001b[0;34m\u001b[0m\u001b[0m\n\u001b[0m",
            "\u001b[0;31mValueError\u001b[0m: invalid literal for int() with base 10: 'Hey hey hey'"
          ]
        }
      ],
      "source": [
        "int(\"Hey hey hey\")"
      ]
    },
    {
      "cell_type": "markdown",
      "metadata": {
        "id": "79CbyD_G9jrA"
      },
      "source": [
        "## Floats\n",
        "\n",
        "Those are numbers with decimal points"
      ]
    },
    {
      "cell_type": "code",
      "execution_count": null,
      "metadata": {
        "id": "cprwKJOd9jrA",
        "outputId": "0449b5f1-dfd7-400e-92b8-2d15dee090db",
        "colab": {
          "base_uri": "https://localhost:8080/"
        }
      },
      "outputs": [
        {
          "output_type": "execute_result",
          "data": {
            "text/plain": [
              "3.0"
            ]
          },
          "metadata": {},
          "execution_count": 52
        }
      ],
      "source": [
        "3."
      ]
    },
    {
      "cell_type": "markdown",
      "metadata": {
        "id": "n87g1nka9jrA"
      },
      "source": [
        "They can include the letter e for an exponent:"
      ]
    },
    {
      "cell_type": "code",
      "execution_count": 18,
      "metadata": {
        "id": "EVKKC8s_9jrA",
        "outputId": "0ce81958-8209-495e-fd70-eb6fed159cce",
        "colab": {
          "base_uri": "https://localhost:8080/"
        }
      },
      "outputs": [
        {
          "output_type": "execute_result",
          "data": {
            "text/plain": [
              "300.0"
            ]
          },
          "metadata": {},
          "execution_count": 18
        }
      ],
      "source": [
        "3e2"
      ]
    },
    {
      "cell_type": "markdown",
      "metadata": {
        "id": "br3KdAjT9jrA"
      },
      "source": [
        "The function `float()` can be used to convert integers to floats:"
      ]
    },
    {
      "cell_type": "code",
      "execution_count": null,
      "metadata": {
        "id": "ySxvm6mG9jrB",
        "outputId": "72e3a0ac-22d0-42ae-a7f1-3196673c529c",
        "colab": {
          "base_uri": "https://localhost:8080/"
        }
      },
      "outputs": [
        {
          "output_type": "execute_result",
          "data": {
            "text/plain": [
              "24.0"
            ]
          },
          "metadata": {},
          "execution_count": 54
        }
      ],
      "source": [
        "float(24)"
      ]
    },
    {
      "cell_type": "markdown",
      "metadata": {
        "id": "juzlA6IZ9jrB"
      },
      "source": [
        "**Exercise**: \n",
        "\n",
        "- Using Python, compute how many seconds are there in a year. Store that number in a variable called `year_seconds`.\n",
        "\n",
        "- Multiply that number by your age and store it in a new variable called `life_seconds`\n",
        "\n",
        "- Find out how many seconds are there in the time you'll spend coursing this bootcamp. Store it into a variable called `bootcamp`.\n",
        "\n",
        "- Find out what percentage of your life will you spend coursing this bootcamp.\n"
      ]
    },
    {
      "cell_type": "code",
      "execution_count": 19,
      "metadata": {
        "id": "QkoVq44S9jrB",
        "colab": {
          "base_uri": "https://localhost:8080/"
        },
        "outputId": "c685d7f3-c7ac-442d-d222-fa7d7d91656b"
      },
      "outputs": [
        {
          "output_type": "stream",
          "name": "stdout",
          "text": [
            "31536000\n"
          ]
        }
      ],
      "source": [
        "year_seconds = 60*60*24*365\n",
        "print(year_seconds)\n"
      ]
    },
    {
      "cell_type": "code",
      "execution_count": 20,
      "metadata": {
        "id": "AfdghPiM9jrB",
        "colab": {
          "base_uri": "https://localhost:8080/"
        },
        "outputId": "a16aeb19-2a92-4f77-ab38-0fd2a5e3146b"
      },
      "outputs": [
        {
          "output_type": "stream",
          "name": "stdout",
          "text": [
            "1292976000\n"
          ]
        }
      ],
      "source": [
        "life_seconds = year_seconds * 41\n",
        "print(life_seconds)"
      ]
    },
    {
      "cell_type": "code",
      "execution_count": 21,
      "metadata": {
        "id": "sXlpbvbD9jrB",
        "colab": {
          "base_uri": "https://localhost:8080/"
        },
        "outputId": "81836e3c-be70-4ecd-8519-f93ef3a93e7f"
      },
      "outputs": [
        {
          "output_type": "stream",
          "name": "stdout",
          "text": [
            "9072000\n"
          ]
        }
      ],
      "source": [
        "bootcamp = 60*60*24*105\n",
        "print(bootcamp)"
      ]
    },
    {
      "cell_type": "code",
      "execution_count": 27,
      "metadata": {
        "id": "vkv5XOWp9jrB",
        "colab": {
          "base_uri": "https://localhost:8080/"
        },
        "outputId": "04df87b4-d773-4f7e-d690-d965c8531e58"
      },
      "outputs": [
        {
          "output_type": "stream",
          "name": "stdout",
          "text": [
            "0.7016371533578349\n"
          ]
        }
      ],
      "source": [
        "bootcamp_percentage = (bootcamp) / (life_seconds)\n",
        "\n",
        "percent = (bootcamp_percentage) * 100\n",
        "print(percent)\n"
      ]
    },
    {
      "cell_type": "markdown",
      "metadata": {
        "id": "SJAbW5In9jrB"
      },
      "source": [
        "## Text Strings\n",
        "\n",
        "You will use text just as much as numbers when programming. Strings are created with either single quotes `'` or double quotes `\"`:"
      ]
    },
    {
      "cell_type": "code",
      "execution_count": null,
      "metadata": {
        "id": "Rxgolhes9jrB",
        "outputId": "7739bb40-b3bf-4f89-ca31-06d0ee927af4",
        "colab": {
          "base_uri": "https://localhost:8080/"
        }
      },
      "outputs": [
        {
          "output_type": "stream",
          "name": "stdout",
          "text": [
            "A string with double quotes\n",
            "A string with single quotes\n"
          ]
        }
      ],
      "source": [
        "print(\"A string with double quotes\")\n",
        "\n",
        "print('A string with single quotes')"
      ]
    },
    {
      "cell_type": "markdown",
      "metadata": {
        "id": "liAc8o259jrC"
      },
      "source": [
        "Having two possible quotation signs allows for having strings with quotes inside:"
      ]
    },
    {
      "cell_type": "code",
      "execution_count": null,
      "metadata": {
        "id": "B9HZT5E99jrC",
        "outputId": "97e59d54-6906-4a8a-d36e-b36acebdf5b8",
        "colab": {
          "base_uri": "https://localhost:8080/"
        }
      },
      "outputs": [
        {
          "output_type": "stream",
          "name": "stdout",
          "text": [
            "The name of our school is 'WBS CODING SCHOOL', which can be abbreviated to 'WBSCS'\n",
            "The name of our school is \"WBS CODING SCHOOL\", which can be abbreviated to \"WBSCS\"\n"
          ]
        }
      ],
      "source": [
        "print(\"The name of our school is 'WBS CODING SCHOOL', which can be abbreviated to 'WBSCS'\")\n",
        "\n",
        "print('The name of our school is \"WBS CODING SCHOOL\", which can be abbreviated to \"WBSCS\"')"
      ]
    },
    {
      "cell_type": "markdown",
      "metadata": {
        "id": "tGDtyD1S9jrC"
      },
      "source": [
        "If you need to create a multiple-line string, you can use triple quotes:"
      ]
    },
    {
      "cell_type": "code",
      "execution_count": null,
      "metadata": {
        "id": "OggB9_6q9jrC",
        "outputId": "6d5000de-58d3-4612-d314-8f6b093e4372",
        "colab": {
          "base_uri": "https://localhost:8080/"
        }
      },
      "outputs": [
        {
          "output_type": "stream",
          "name": "stdout",
          "text": [
            "Hold fast to dreams\n",
            "For if dreams die\n",
            "Life is a broken-winged bird\n",
            "That cannot fly.\n",
            "Hold fast to dreams\n",
            "For when dreams go\n",
            "Life is a barren field\n",
            "Frozen with snow.\n"
          ]
        }
      ],
      "source": [
        "poem = \"\"\"Hold fast to dreams\n",
        "For if dreams die\n",
        "Life is a broken-winged bird\n",
        "That cannot fly.\n",
        "Hold fast to dreams\n",
        "For when dreams go\n",
        "Life is a barren field\n",
        "Frozen with snow.\"\"\"\n",
        "\n",
        "print(poem)"
      ]
    },
    {
      "cell_type": "markdown",
      "metadata": {
        "id": "XMDVSzhl9jrC"
      },
      "source": [
        "You can create a string out of another data type with `str()`:"
      ]
    },
    {
      "cell_type": "code",
      "execution_count": null,
      "metadata": {
        "id": "Egjiy0FX9jrC",
        "outputId": "b390b7c1-0f86-4d33-9405-b5744dce090b",
        "colab": {
          "base_uri": "https://localhost:8080/"
        }
      },
      "outputs": [
        {
          "output_type": "stream",
          "name": "stdout",
          "text": [
            "88\n"
          ]
        }
      ],
      "source": [
        "str_88 = str(88)\n",
        "print(str_88)"
      ]
    },
    {
      "cell_type": "code",
      "execution_count": null,
      "metadata": {
        "id": "sII6zfHc9jrC",
        "outputId": "0dd51e8b-27ce-4d45-e00d-2a421a6abebd",
        "colab": {
          "base_uri": "https://localhost:8080/"
        }
      },
      "outputs": [
        {
          "output_type": "execute_result",
          "data": {
            "text/plain": [
              "str"
            ]
          },
          "metadata": {},
          "execution_count": 59
        }
      ],
      "source": [
        "type(str_88)"
      ]
    },
    {
      "cell_type": "markdown",
      "metadata": {
        "id": "YncConBM9jrC"
      },
      "source": [
        "By using the backslash `\\` preceding a character, we \"escape\" its usual meaning and give a special meaning to it. \n",
        "\n",
        "For example, `\\n` will add a new line, and `\\t` will add a tab:"
      ]
    },
    {
      "cell_type": "code",
      "execution_count": null,
      "metadata": {
        "id": "goss37jh9jrC",
        "outputId": "e17fc9ea-9405-4842-9fa0-c1cef6975b2f",
        "colab": {
          "base_uri": "https://localhost:8080/"
        }
      },
      "outputs": [
        {
          "output_type": "stream",
          "name": "stdout",
          "text": [
            "This is the first line\n",
            "And this is the second one.\n"
          ]
        }
      ],
      "source": [
        "print(\"This is the first line\\nAnd this is the second one.\")"
      ]
    },
    {
      "cell_type": "code",
      "execution_count": null,
      "metadata": {
        "id": "pITgLZAt9jrC",
        "outputId": "e7b800d8-8d48-4d72-b281-8b526f319734",
        "colab": {
          "base_uri": "https://localhost:8080/"
        }
      },
      "outputs": [
        {
          "output_type": "stream",
          "name": "stdout",
          "text": [
            "Before the tab\tAnd after the tab.\n"
          ]
        }
      ],
      "source": [
        "print(\"Before the tab\\tAnd after the tab.\")"
      ]
    },
    {
      "cell_type": "markdown",
      "metadata": {
        "id": "ecl__5ED9jrD"
      },
      "source": [
        "Similarly, you can escape quotes by using `\\`:"
      ]
    },
    {
      "cell_type": "code",
      "execution_count": null,
      "metadata": {
        "id": "mkBuneqa9jrD",
        "outputId": "96c7aa46-f3aa-43db-81cf-f758f3a4a762",
        "colab": {
          "base_uri": "https://localhost:8080/"
        }
      },
      "outputs": [
        {
          "output_type": "stream",
          "name": "stdout",
          "text": [
            "The world's largest rubber duck was 54'2\" by 67'7\" by 105'\n"
          ]
        }
      ],
      "source": [
        "fact = \"The world's largest rubber duck was 54'2\\\" by 67'7\\\" by 105'\"\n",
        "print(fact)"
      ]
    },
    {
      "cell_type": "markdown",
      "metadata": {
        "id": "-p906KkV9jrD"
      },
      "source": [
        "If you need to use a backslash inside your string, you type `\\\\`: the first backslash escapes the second one:"
      ]
    },
    {
      "cell_type": "code",
      "execution_count": null,
      "metadata": {
        "id": "aAy-Fro69jrE",
        "outputId": "47192dcc-b026-45b8-c27c-0a6a143b35f1",
        "colab": {
          "base_uri": "https://localhost:8080/"
        }
      },
      "outputs": [
        {
          "output_type": "stream",
          "name": "stdout",
          "text": [
            "Please contemplate a single, one —and only one— backslash: \\\n"
          ]
        }
      ],
      "source": [
        "print(\"Please contemplate a single, one —and only one— backslash: \\\\\")"
      ]
    },
    {
      "cell_type": "markdown",
      "metadata": {
        "id": "GTFObd169jrE"
      },
      "source": [
        "By typing `r` before the quotes, we denote a string as a _raw string_, which will ignore any special meaning:"
      ]
    },
    {
      "cell_type": "code",
      "execution_count": null,
      "metadata": {
        "id": "m74jQvn89jrE",
        "outputId": "71fbe044-e8af-45d0-99b2-13d803482f95",
        "colab": {
          "base_uri": "https://localhost:8080/"
        }
      },
      "outputs": [
        {
          "output_type": "stream",
          "name": "stdout",
          "text": [
            "This will not create a new line \\n and here we will see two backslashes \\\\\n"
          ]
        }
      ],
      "source": [
        "raw_str = r\"This will not create a new line \\n and here we will see two backslashes \\\\\"\n",
        "print(raw_str)"
      ]
    },
    {
      "cell_type": "markdown",
      "metadata": {
        "id": "gdXLE6kg9jrF"
      },
      "source": [
        "You can combine strings using `+` and multiply them with `*`:"
      ]
    },
    {
      "cell_type": "code",
      "execution_count": null,
      "metadata": {
        "id": "60DFFaI29jrF",
        "outputId": "aa9c34b5-efbd-433b-ccb7-89f5ae248309",
        "colab": {
          "base_uri": "https://localhost:8080/"
        }
      },
      "outputs": [
        {
          "output_type": "stream",
          "name": "stdout",
          "text": [
            "DataScience\n"
          ]
        }
      ],
      "source": [
        "print(\"Data\" + \"Science\")"
      ]
    },
    {
      "cell_type": "code",
      "execution_count": null,
      "metadata": {
        "id": "Lc2l7DWQ9jrF",
        "outputId": "e66d23c3-2212-4348-e662-fedbea48d39f",
        "colab": {
          "base_uri": "https://localhost:8080/"
        }
      },
      "outputs": [
        {
          "output_type": "stream",
          "name": "stdout",
          "text": [
            "DataDataDataDataDataDataDataDataDataData\n"
          ]
        }
      ],
      "source": [
        "print(\"Data\"*10)"
      ]
    },
    {
      "cell_type": "markdown",
      "metadata": {
        "id": "E6X3R-Qu9jrF"
      },
      "source": [
        "Using `[]`, you can grab certain characters from a string by specifying their position, either starting from the first element `[0]` or from the last one `[-1]`:"
      ]
    },
    {
      "cell_type": "code",
      "execution_count": null,
      "metadata": {
        "id": "kugvoRh59jrF",
        "outputId": "825a5e4a-61c7-4f3b-e516-31be9352b020",
        "colab": {
          "base_uri": "https://localhost:8080/",
          "height": 35
        }
      },
      "outputs": [
        {
          "output_type": "execute_result",
          "data": {
            "text/plain": [
              "'a'"
            ],
            "application/vnd.google.colaboratory.intrinsic+json": {
              "type": "string"
            }
          },
          "metadata": {},
          "execution_count": 67
        }
      ],
      "source": [
        "letters = \"abcdefghijklmnopqrstuvwxyz\"\n",
        "\n",
        "letters[0]"
      ]
    },
    {
      "cell_type": "code",
      "execution_count": null,
      "metadata": {
        "id": "PhVVHG5O9jrF",
        "outputId": "22518522-4b40-4bb5-9a26-7c0ba4a3f2fd",
        "colab": {
          "base_uri": "https://localhost:8080/",
          "height": 35
        }
      },
      "outputs": [
        {
          "output_type": "execute_result",
          "data": {
            "text/plain": [
              "'c'"
            ],
            "application/vnd.google.colaboratory.intrinsic+json": {
              "type": "string"
            }
          },
          "metadata": {},
          "execution_count": 68
        }
      ],
      "source": [
        "letters[2]"
      ]
    },
    {
      "cell_type": "code",
      "execution_count": null,
      "metadata": {
        "id": "_GUQzusO9jrF",
        "outputId": "8b3e2299-282e-4dbf-a0fa-77ec88e8a32f",
        "colab": {
          "base_uri": "https://localhost:8080/",
          "height": 35
        }
      },
      "outputs": [
        {
          "output_type": "execute_result",
          "data": {
            "text/plain": [
              "'z'"
            ],
            "application/vnd.google.colaboratory.intrinsic+json": {
              "type": "string"
            }
          },
          "metadata": {},
          "execution_count": 69
        }
      ],
      "source": [
        "letters[-1]"
      ]
    },
    {
      "cell_type": "code",
      "execution_count": null,
      "metadata": {
        "id": "V5_KTTMm9jrF",
        "outputId": "b7b77c67-8fae-47e7-a431-d02fead72fc7",
        "colab": {
          "base_uri": "https://localhost:8080/",
          "height": 35
        }
      },
      "outputs": [
        {
          "output_type": "execute_result",
          "data": {
            "text/plain": [
              "'w'"
            ],
            "application/vnd.google.colaboratory.intrinsic+json": {
              "type": "string"
            }
          },
          "metadata": {},
          "execution_count": 70
        }
      ],
      "source": [
        "letters [-4]"
      ]
    },
    {
      "cell_type": "markdown",
      "metadata": {
        "id": "XaVoo-1O9jrF"
      },
      "source": [
        "You can _slice_ a string using `[start:end]`. Note that the start is inclusive, but the end is not:"
      ]
    },
    {
      "cell_type": "code",
      "execution_count": null,
      "metadata": {
        "id": "oZe67mOX9jrF",
        "outputId": "e0342373-3633-4a04-a4a5-43cc694bacad",
        "colab": {
          "base_uri": "https://localhost:8080/",
          "height": 35
        }
      },
      "outputs": [
        {
          "output_type": "execute_result",
          "data": {
            "text/plain": [
              "'bcde'"
            ],
            "application/vnd.google.colaboratory.intrinsic+json": {
              "type": "string"
            }
          },
          "metadata": {},
          "execution_count": 71
        }
      ],
      "source": [
        "letters[1:5]"
      ]
    },
    {
      "cell_type": "markdown",
      "metadata": {
        "id": "V3z2_t-L9jrG"
      },
      "source": [
        "If you don't specify the start, the slice will start at the beginning of the string. Same goes for the end:"
      ]
    },
    {
      "cell_type": "code",
      "execution_count": null,
      "metadata": {
        "id": "aG7gvGat9jrG",
        "outputId": "3d74a622-1769-4c9f-febc-066a0b26ff2a",
        "colab": {
          "base_uri": "https://localhost:8080/",
          "height": 35
        }
      },
      "outputs": [
        {
          "output_type": "execute_result",
          "data": {
            "text/plain": [
              "'abcd'"
            ],
            "application/vnd.google.colaboratory.intrinsic+json": {
              "type": "string"
            }
          },
          "metadata": {},
          "execution_count": 72
        }
      ],
      "source": [
        "letters[:4]"
      ]
    },
    {
      "cell_type": "code",
      "execution_count": null,
      "metadata": {
        "id": "byxy0Fxu9jrG",
        "outputId": "948af7ef-2eec-44b2-c934-0a139dc1e201",
        "colab": {
          "base_uri": "https://localhost:8080/",
          "height": 35
        }
      },
      "outputs": [
        {
          "output_type": "execute_result",
          "data": {
            "text/plain": [
              "'efghijklmnopqrstuvwxyz'"
            ],
            "application/vnd.google.colaboratory.intrinsic+json": {
              "type": "string"
            }
          },
          "metadata": {},
          "execution_count": 73
        }
      ],
      "source": [
        "letters[4:]"
      ]
    },
    {
      "cell_type": "markdown",
      "metadata": {
        "id": "boj3LTz89jrG"
      },
      "source": [
        "Counting how many characters are there in a string can be done with `len()`:"
      ]
    },
    {
      "cell_type": "code",
      "execution_count": null,
      "metadata": {
        "id": "ls59e3gu9jrG",
        "outputId": "74cb32c6-adb0-44f7-a731-1ca9c93bb75e",
        "colab": {
          "base_uri": "https://localhost:8080/"
        }
      },
      "outputs": [
        {
          "output_type": "execute_result",
          "data": {
            "text/plain": [
              "26"
            ]
          },
          "metadata": {},
          "execution_count": 74
        }
      ],
      "source": [
        "len(letters)"
      ]
    },
    {
      "cell_type": "markdown",
      "metadata": {
        "id": "7WyQW4Ig9jrG"
      },
      "source": [
        "The `split` function lets you brake a string into smaller strings at a certain character:"
      ]
    },
    {
      "cell_type": "code",
      "execution_count": null,
      "metadata": {
        "id": "uQ1bJH_z9jrG"
      },
      "outputs": [],
      "source": [
        "jobs = \"Data Scientist, Data Analyst, Data Engineer, Business Analyst, Marketing Analyst, Analytics Consultant\""
      ]
    },
    {
      "cell_type": "code",
      "execution_count": null,
      "metadata": {
        "id": "XeizyHTZ9jrG",
        "outputId": "f228448d-2de7-4c65-9af1-5ea4b81dd74d",
        "colab": {
          "base_uri": "https://localhost:8080/",
          "height": 35
        }
      },
      "outputs": [
        {
          "output_type": "execute_result",
          "data": {
            "text/plain": [
              "'Data Scientist, Data Analyst, Data Engineer, Business Analyst, Marketing Analyst, Analytics Consultant'"
            ],
            "application/vnd.google.colaboratory.intrinsic+json": {
              "type": "string"
            }
          },
          "metadata": {},
          "execution_count": 76
        }
      ],
      "source": [
        "jobs"
      ]
    },
    {
      "cell_type": "code",
      "execution_count": null,
      "metadata": {
        "id": "MGMy9Lvs9jrG",
        "outputId": "2289142c-548c-4627-e5a8-10145a1710d0",
        "colab": {
          "base_uri": "https://localhost:8080/"
        }
      },
      "outputs": [
        {
          "output_type": "execute_result",
          "data": {
            "text/plain": [
              "['Data Scientist',\n",
              " ' Data Analyst',\n",
              " ' Data Engineer',\n",
              " ' Business Analyst',\n",
              " ' Marketing Analyst',\n",
              " ' Analytics Consultant']"
            ]
          },
          "metadata": {},
          "execution_count": 77
        }
      ],
      "source": [
        "jobs.split(\",\")"
      ]
    },
    {
      "cell_type": "markdown",
      "metadata": {
        "id": "jTkK-9YB9jrG"
      },
      "source": [
        "You can substitute a character using `replace()`:"
      ]
    },
    {
      "cell_type": "code",
      "execution_count": null,
      "metadata": {
        "id": "EfRAH1DQ9jrG",
        "outputId": "a6d13cec-5392-4ee7-f9d4-660d5a2c06b5",
        "colab": {
          "base_uri": "https://localhost:8080/",
          "height": 35
        }
      },
      "outputs": [
        {
          "output_type": "execute_result",
          "data": {
            "text/plain": [
              "'Duck Scientist, Duck Analyst, Duck Engineer, Business Analyst, Marketing Analyst, Analytics Consultant'"
            ],
            "application/vnd.google.colaboratory.intrinsic+json": {
              "type": "string"
            }
          },
          "metadata": {},
          "execution_count": 78
        }
      ],
      "source": [
        "jobs.replace(\"Data\", \"Duck\")"
      ]
    },
    {
      "cell_type": "markdown",
      "metadata": {
        "id": "8kcFyXzW9jrG"
      },
      "source": [
        "You can specify how many times do you want to make that replacement:"
      ]
    },
    {
      "cell_type": "code",
      "execution_count": null,
      "metadata": {
        "id": "UVpKW6vN9jrH",
        "outputId": "8563736a-1fa0-4de7-9666-e3db5fcfa5e9",
        "colab": {
          "base_uri": "https://localhost:8080/",
          "height": 35
        }
      },
      "outputs": [
        {
          "output_type": "execute_result",
          "data": {
            "text/plain": [
              "'Duck Scientist, Duck Analyst, Data Engineer, Business Analyst, Marketing Analyst, Analytics Consultant'"
            ],
            "application/vnd.google.colaboratory.intrinsic+json": {
              "type": "string"
            }
          },
          "metadata": {},
          "execution_count": 79
        }
      ],
      "source": [
        "jobs.replace(\"Data\", \"Duck\", 2)"
      ]
    },
    {
      "cell_type": "markdown",
      "metadata": {
        "id": "eOoL1zpB9jrH"
      },
      "source": [
        "A very common process in data cleaning is to remove preceeding and trailing spaces from strings. The function `strip()` does exactly that:"
      ]
    },
    {
      "cell_type": "code",
      "execution_count": null,
      "metadata": {
        "id": "hk0Udvyn9jrH",
        "outputId": "0c3712d8-ee6c-417b-96ab-f828a9496f75",
        "colab": {
          "base_uri": "https://localhost:8080/"
        }
      },
      "outputs": [
        {
          "output_type": "stream",
          "name": "stdout",
          "text": [
            "                     wow                     \n"
          ]
        }
      ],
      "source": [
        "wow = \"                     wow                     \"\n",
        "print(wow)"
      ]
    },
    {
      "cell_type": "code",
      "execution_count": null,
      "metadata": {
        "id": "mZWhXNBD9jrH",
        "outputId": "859feda8-e3d8-4c07-e75a-32c91d63356a",
        "colab": {
          "base_uri": "https://localhost:8080/",
          "height": 35
        }
      },
      "outputs": [
        {
          "output_type": "execute_result",
          "data": {
            "text/plain": [
              "'wow'"
            ],
            "application/vnd.google.colaboratory.intrinsic+json": {
              "type": "string"
            }
          },
          "metadata": {},
          "execution_count": 81
        }
      ],
      "source": [
        "wow.strip()"
      ]
    },
    {
      "cell_type": "markdown",
      "metadata": {
        "id": "O8qkC9Ug9jrH"
      },
      "source": [
        "There are many more string methods in Python. Browse through them here: https://www.w3schools.com/python/python_ref_string.asp \n",
        "\n",
        "About 99.9% of the time, coding does not mean memorizing functions and knowing by heart how to use them, but being quick in finding the function to need, discovering how to use them reading the documentation or simply adapting coding examples from the internet to meet your needs. \n",
        "\n",
        "In the exercises below, you will have to use several Python string methods, in combination with what you've learned here. Use the link from _w3schools_ or Google around to complete them."
      ]
    },
    {
      "cell_type": "markdown",
      "metadata": {
        "id": "iYebLIcM9jrH"
      },
      "source": [
        "**Exercises:**\n",
        "\n",
        "1. Create a Python string with the following text, and assign it to the variable `data_science`:\n",
        "\n",
        "Data science is an interdisciplinary field that uses scientific methods, processes, algorithms and systems to extract knowledge and insights from noisy, structured and unstructured data, and apply knowledge and actionable insights from data across a broad range of application domains. \n",
        "\n",
        "Data science is related to data mining, machine learning and big data. Data science is a \"concept to unify statistics, data analysis, informatics, and their related methods\" in order to \"understand and analyze actual phenomena\" with data. It uses techniques and theories drawn from many fields within the context of mathematics, statistics, computer science, information science, and domain knowledge. However, data science is different from computer science and information science. Turing Award winner Jim Gray imagined data science as a \"fourth paradigm\" of science (empirical, theoretical, computational, and now data-driven) and asserted that \"everything about science is changing because of the impact of information technology\" and the data deluge."
      ]
    },
    {
      "cell_type": "code",
      "execution_count": 62,
      "metadata": {
        "id": "sqWvKQMU9jrH",
        "colab": {
          "base_uri": "https://localhost:8080/"
        },
        "outputId": "6445fd98-c26d-4c5a-d022-073550f6c742"
      },
      "outputs": [
        {
          "output_type": "stream",
          "name": "stdout",
          "text": [
            "Data science is an interdisciplinary field that uses scientific methods, processes, algorithms and systems to extract knowledge and insights \n",
            "from noisy, structured and unstructured data, and apply knowledge and actionable insights from data across a broad range of application \n",
            "domains.\n",
            "\n",
            "Data science is related to data mining, machine learning and big data. Data science is a \"concept to unify statistics, data analysis, informatics,\n",
            "and their related methods\" in order to \"understand and analyze actual phenomena\" with data. It uses techniques and theories drawn from many\n",
            "fields within the context of mathematics, statistics, computer science, information science, and domain knowledge. However, data science is\n",
            " different from computer science and information science. Turing Award winner Jim Gray imagined data science as a \"fourth paradigm\" of\n",
            "science (empirical, theoretical, computational, and now data-driven) and asserted that \"everything about science is changing because of the\n",
            "impact of information technology\" and the data deluge.\n"
          ]
        }
      ],
      "source": [
        "data_science = '''Data science is an interdisciplinary field that uses scientific methods, processes, algorithms and systems to extract knowledge and insights \\nfrom noisy, structured and unstructured data, and apply knowledge and actionable insights from data across a broad range of application \\ndomains.\n",
        "\n",
        "Data science is related to data mining, machine learning and big data. Data science is a \"concept to unify statistics, data analysis, informatics,\\nand their related methods\" in order to \"understand and analyze actual phenomena\" with data. It uses techniques and theories drawn from many\\nfields within the context of mathematics, statistics, computer science, information science, and domain knowledge. However, data science is\\n different from computer science and information science. Turing Award winner Jim Gray imagined data science as a \"fourth paradigm\" of\\nscience (empirical, theoretical, computational, and now data-driven) and asserted that \"everything about science is changing because of the\\nimpact of information technology\" and the data deluge.'''\n",
        "\n",
        "\n",
        "print(data_science)"
      ]
    },
    {
      "cell_type": "markdown",
      "metadata": {
        "id": "g8DIfhZ_9jrH"
      },
      "source": [
        "2. How many characters are there in the string?"
      ]
    },
    {
      "cell_type": "code",
      "execution_count": 48,
      "metadata": {
        "id": "q6gDSO3E9jrH",
        "colab": {
          "base_uri": "https://localhost:8080/"
        },
        "outputId": "7f9182b1-6583-4918-8a05-5a52dc2052fe"
      },
      "outputs": [
        {
          "output_type": "execute_result",
          "data": {
            "text/plain": [
              "1044"
            ]
          },
          "metadata": {},
          "execution_count": 48
        }
      ],
      "source": [
        "len(data_science)"
      ]
    },
    {
      "cell_type": "markdown",
      "metadata": {
        "id": "cnXae6C19jrI"
      },
      "source": [
        "3. Convert all the string to lower case."
      ]
    },
    {
      "cell_type": "code",
      "execution_count": 66,
      "metadata": {
        "id": "VsUPsobG9jrI",
        "colab": {
          "base_uri": "https://localhost:8080/"
        },
        "outputId": "8ee27509-f35a-494c-8ad3-bc938cddbd40"
      },
      "outputs": [
        {
          "output_type": "stream",
          "name": "stdout",
          "text": [
            "data science is an interdisciplinary field that uses scientific methods, processes, algorithms and systems to extract knowledge and insights \n",
            "from noisy, structured and unstructured data, and apply knowledge and actionable insights from data across a broad range of application \n",
            "domains.\n",
            "\n",
            "data science is related to data mining, machine learning and big data. data science is a \"concept to unify statistics, data analysis, informatics,\n",
            "and their related methods\" in order to \"understand and analyze actual phenomena\" with data. it uses techniques and theories drawn from many\n",
            "fields within the context of mathematics, statistics, computer science, information science, and domain knowledge. however, data science is\n",
            " different from computer science and information science. turing award winner jim gray imagined data science as a \"fourth paradigm\" of\n",
            "science (empirical, theoretical, computational, and now data-driven) and asserted that \"everything about science is changing because of the\n",
            "impact of information technology\" and the data deluge.\n"
          ]
        }
      ],
      "source": [
        "print(data_science.lower())"
      ]
    },
    {
      "cell_type": "markdown",
      "metadata": {
        "id": "M2ig3CBO9jrI"
      },
      "source": [
        "4. How many times do the word \"data\" appear (in the string you converted to lower case)?"
      ]
    },
    {
      "cell_type": "code",
      "execution_count": 65,
      "metadata": {
        "id": "d3xnrIw69jrJ",
        "colab": {
          "base_uri": "https://localhost:8080/"
        },
        "outputId": "ee492844-7950-4cd6-f183-0cb7987a18f1"
      },
      "outputs": [
        {
          "output_type": "execute_result",
          "data": {
            "text/plain": [
              "10"
            ]
          },
          "metadata": {},
          "execution_count": 65
        }
      ],
      "source": [
        "data_science.count(\"data\")"
      ]
    },
    {
      "cell_type": "markdown",
      "metadata": {
        "id": "sqLnagdM9jrK"
      },
      "source": [
        "5. Separate the string into sentences, breaking it down whenever there is a stop (`.`)."
      ]
    },
    {
      "cell_type": "code",
      "execution_count": 61,
      "metadata": {
        "id": "IiV2QyrT9jrK",
        "colab": {
          "base_uri": "https://localhost:8080/"
        },
        "outputId": "39ef094a-07fe-49c4-cb66-48aab5e2eb8f"
      },
      "outputs": [
        {
          "output_type": "execute_result",
          "data": {
            "text/plain": [
              "['Data science is an interdisciplinary field that uses scientific methods, processes, algorithms and systems to extract knowledge and insights\\nfrom noisy, structured and unstructured data, and apply knowledge and actionable insights from data across a broad range of application \\ndomains',\n",
              " '\\n\\nData science is related to data mining, machine learning and big data',\n",
              " ' Data science is a \"concept to unify statistics, data analysis, informatics,\\nand their related methods\" in order to \"understand and analyze actual phenomena\" with data',\n",
              " ' It uses techniques and theories drawn from many\\nfields within the context of mathematics, statistics, computer science, information science, and domain knowledge',\n",
              " ' However, data science is\\n different from computer science and information science',\n",
              " ' Turing Award winner Jim Gray imagined data science as a \"fourth paradigm\" of\\nscience (empirical, theoretical, computational, and now data-driven) and asserted that \"everything about science is changing because of the\\nimpact of information technology\" and the data deluge',\n",
              " '']"
            ]
          },
          "metadata": {},
          "execution_count": 61
        }
      ],
      "source": [
        "data_science.split(\".\")"
      ]
    },
    {
      "cell_type": "markdown",
      "metadata": {
        "id": "EesNFTTO9jrK"
      },
      "source": [
        "6. Capitalize all the words of the string."
      ]
    },
    {
      "cell_type": "code",
      "execution_count": 60,
      "metadata": {
        "id": "kpZGn0NK9jrK",
        "colab": {
          "base_uri": "https://localhost:8080/"
        },
        "outputId": "24ccd1ce-eae0-48e3-83af-3e07cbf0c6a2"
      },
      "outputs": [
        {
          "output_type": "stream",
          "name": "stdout",
          "text": [
            "Data Science Is An Interdisciplinary Field That Uses Scientific Methods, Processes, Algorithms And Systems To Extract Knowledge And Insights\n",
            "From Noisy, Structured And Unstructured Data, And Apply Knowledge And Actionable Insights From Data Across A Broad Range Of Application \n",
            "Domains.\n",
            "\n",
            "Data Science Is Related To Data Mining, Machine Learning And Big Data. Data Science Is A \"Concept To Unify Statistics, Data Analysis, Informatics,\n",
            "And Their Related Methods\" In Order To \"Understand And Analyze Actual Phenomena\" With Data. It Uses Techniques And Theories Drawn From Many\n",
            "Fields Within The Context Of Mathematics, Statistics, Computer Science, Information Science, And Domain Knowledge. However, Data Science Is\n",
            " Different From Computer Science And Information Science. Turing Award Winner Jim Gray Imagined Data Science As A \"Fourth Paradigm\" Of\n",
            "Science (Empirical, Theoretical, Computational, And Now Data-Driven) And Asserted That \"Everything About Science Is Changing Because Of The\n",
            "Impact Of Information Technology\" And The Data Deluge.\n"
          ]
        }
      ],
      "source": [
        "print(data_science.title())\n",
        "\n",
        "\n",
        "\n",
        "\n"
      ]
    },
    {
      "cell_type": "markdown",
      "metadata": {
        "id": "1uTXO2NB9jrK"
      },
      "source": [
        "7. Find the position of the word \"Turing\" in the string."
      ]
    },
    {
      "cell_type": "code",
      "execution_count": 88,
      "metadata": {
        "id": "HuV6OUsQ9jrK",
        "colab": {
          "base_uri": "https://localhost:8080/"
        },
        "outputId": "36a8679f-6e14-4401-90a9-ce124920eea1"
      },
      "outputs": [
        {
          "output_type": "execute_result",
          "data": {
            "text/plain": [
              "775"
            ]
          },
          "metadata": {},
          "execution_count": 88
        }
      ],
      "source": [
        "index = data_science.find(\"Turing\") + 1\n",
        "index"
      ]
    },
    {
      "cell_type": "markdown",
      "metadata": {
        "id": "QY5ao8e09jrK"
      },
      "source": [
        "### Fromatting with f-strings\n",
        "\n",
        "Strings can be concatenated with `+`. Sometimes, you need to _interpolate_ values into strings. \n",
        "\n",
        "Say you work for a logistics company and have a script that calculates the number of trucks that should be made ready for the next day. You want this number to be included in the sentence of an email, like this: `\"For tomorrow, we will need x trucks.\"` But replacing x with your value.\n",
        "\n",
        "This task is known as formatting strings. It can be confusing to learn this by just browsing the internet, because there are many ways to format strings in Python: the old one (using `%`), the new one (using `{}`and `format()`) and the newest one (using f-strings).\n",
        "\n",
        "We will only show you how to use f-strings, but be ready to stumble onto the other ones at any time!"
      ]
    },
    {
      "cell_type": "code",
      "execution_count": null,
      "metadata": {
        "id": "uUtDC4nG9jrK",
        "outputId": "dda317d7-67bd-4cca-815c-8903d337ee0b",
        "colab": {
          "base_uri": "https://localhost:8080/"
        }
      },
      "outputs": [
        {
          "output_type": "stream",
          "name": "stdout",
          "text": [
            "For tomorrow, we will need 73 trucks.\n"
          ]
        }
      ],
      "source": [
        "n_trucks = 73\n",
        "\n",
        "email = f\"For tomorrow, we will need {n_trucks} trucks.\"\n",
        "\n",
        "print(email)"
      ]
    },
    {
      "cell_type": "markdown",
      "metadata": {
        "id": "wu4jlS659jrK"
      },
      "source": [
        "The curly brackets support expressions like those:"
      ]
    },
    {
      "cell_type": "code",
      "execution_count": null,
      "metadata": {
        "id": "SoWNRe6P9jrK",
        "outputId": "35a41d4b-2d39-4a70-d967-cdd695cc1fe4",
        "colab": {
          "base_uri": "https://localhost:8080/"
        }
      },
      "outputs": [
        {
          "output_type": "stream",
          "name": "stdout",
          "text": [
            "For tomorrow, we will need 83 trucks in the Main Garage.\n"
          ]
        }
      ],
      "source": [
        "place = \"main garage\"\n",
        "\n",
        "email = f\"For tomorrow, we will need {n_trucks+10} trucks in the {place.title()}.\"\n",
        "\n",
        "print(email)"
      ]
    },
    {
      "cell_type": "markdown",
      "metadata": {
        "id": "qqMvu4G19jrL"
      },
      "source": [
        "**Exercise**: Convert the `data_science` string from the previous exercise into an f-string, replacing the name \"Jim Gray\" by the variable `jim` that we define here:"
      ]
    },
    {
      "cell_type": "code",
      "execution_count": 106,
      "metadata": {
        "id": "leloOVdx9jrL",
        "colab": {
          "base_uri": "https://localhost:8080/",
          "height": 105
        },
        "outputId": "020f49e1-6200-4aad-eb4f-4180b22849b3"
      },
      "outputs": [
        {
          "output_type": "execute_result",
          "data": {
            "text/plain": [
              "'Data science is an interdisciplinary field that uses scientific methods, processes, algorithms and systems to extract knowledge and insights from noisy, structured and unstructured data, and apply knowledge and actionable insights from data across a broad range of application domains. Data science is related to data mining, machine learning and big data. Data science is a \"concept to unify statistics, data analysis, informatics, and their related methods\" in order to \"understand and analyze actual phenomena\" with data. It uses techniques and theories drawn from many fields within the context of mathematics, statistics, computer science, information science, and domain knowledge. However, data science is different from computer science and information science. Turing Award winner Jim Gray imagined data science as a \"fourth paradigm\" of science (empirical, theoretical, computational, and now data-driven) and asserted that \"everything about science is changing because of the impact of information technology\" and the data deluge.'"
            ],
            "application/vnd.google.colaboratory.intrinsic+json": {
              "type": "string"
            }
          },
          "metadata": {},
          "execution_count": 106
        }
      ],
      "source": [
        "jim = \"Jim Gray\" \n",
        "data_science = f'Data science is an interdisciplinary field that uses scientific methods, processes, algorithms and systems to extract knowledge and insights from noisy, structured and unstructured data, and apply knowledge and actionable insights from data across a broad range of application domains. Data science is related to data mining, machine learning and big data. Data science is a \"concept to unify statistics, data analysis, informatics, and their related methods\" in order to \"understand and analyze actual phenomena\" with data. It uses techniques and theories drawn from many fields within the context of mathematics, statistics, computer science, information science, and domain knowledge. However, data science is different from computer science and information science. Turing Award winner {jim} imagined data science as a \"fourth paradigm\" of science (empirical, theoretical, computational, and now data-driven) and asserted that \"everything about science is changing because of the impact of information technology\" and the data deluge.'\n",
        "data_science"
      ]
    },
    {
      "cell_type": "code",
      "execution_count": 81,
      "metadata": {
        "id": "jbveObbY9jrL",
        "colab": {
          "base_uri": "https://localhost:8080/",
          "height": 252
        },
        "outputId": "3ec23e79-c634-48f0-8472-0c8b3a6f14d4"
      },
      "outputs": [
        {
          "output_type": "error",
          "ename": "TypeError",
          "evalue": "ignored",
          "traceback": [
            "\u001b[0;31m---------------------------------------------------------------------------\u001b[0m",
            "\u001b[0;31mTypeError\u001b[0m                                 Traceback (most recent call last)",
            "\u001b[0;32m<ipython-input-81-af286cee8156>\u001b[0m in \u001b[0;36m<module>\u001b[0;34m()\u001b[0m\n\u001b[1;32m      3\u001b[0m Data science is related to data mining, machine learning and big data. Data science is a \"concept to unify statistics, data analysis, informatics,\\nand their related methods\" in order to \"understand and analyze actual phenomena\" with data. It uses techniques and theories drawn from many\\nfields within the context of mathematics, statistics, computer science, information science, and domain knowledge. However, data science is\\n different from computer science and information science. Turing Award winner imagined data science as a \"fourth paradigm\" of\\nscience (empirical, theoretical, computational, and now data-driven) and asserted that \"everything about science is changing because of the\\nimpact of information technology\" and the data deluge.'''\n\u001b[1;32m      4\u001b[0m \u001b[0;34m\u001b[0m\u001b[0m\n\u001b[0;32m----> 5\u001b[0;31m \u001b[0mprint\u001b[0m\u001b[0;34m(\u001b[0m\u001b[0mdata_science\u001b[0m\u001b[0;34m)\u001b[0m\u001b[0;34m\u001b[0m\u001b[0;34m\u001b[0m\u001b[0m\n\u001b[0m",
            "\u001b[0;31mTypeError\u001b[0m: 'str' object is not callable"
          ]
        }
      ],
      "source": [
        "\n"
      ]
    }
  ],
  "metadata": {
    "kernelspec": {
      "display_name": "Python 3",
      "language": "python",
      "name": "python3"
    },
    "language_info": {
      "codemirror_mode": {
        "name": "ipython",
        "version": 3
      },
      "file_extension": ".py",
      "mimetype": "text/x-python",
      "name": "python",
      "nbconvert_exporter": "python",
      "pygments_lexer": "ipython3",
      "version": "3.8.8"
    },
    "colab": {
      "name": "Numbers-strings_excercise.ipynb",
      "provenance": [],
      "collapsed_sections": [],
      "include_colab_link": true
    }
  },
  "nbformat": 4,
  "nbformat_minor": 0
}